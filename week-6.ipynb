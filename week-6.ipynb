{
  "nbformat": 4,
  "nbformat_minor": 0,
  "metadata": {
    "colab": {
      "provenance": [],
      "authorship_tag": "ABX9TyPpl+iINHioBGrN7+A7uxg9",
      "include_colab_link": true
    },
    "kernelspec": {
      "name": "python3",
      "display_name": "Python 3"
    },
    "language_info": {
      "name": "python"
    }
  },
  "cells": [
    {
      "cell_type": "markdown",
      "metadata": {
        "id": "view-in-github",
        "colab_type": "text"
      },
      "source": [
        "<a href=\"https://colab.research.google.com/github/2303a51514/Applications-of-Data-Minning/blob/main/week-6.ipynb\" target=\"_parent\"><img src=\"https://colab.research.google.com/assets/colab-badge.svg\" alt=\"Open In Colab\"/></a>"
      ]
    },
    {
      "cell_type": "code",
      "execution_count": 5,
      "metadata": {
        "colab": {
          "base_uri": "https://localhost:8080/"
        },
        "id": "hh49qzFdJOev",
        "outputId": "a1c9c0c6-719b-4cb2-ebbd-2f40b58c9c61"
      },
      "outputs": [
        {
          "output_type": "stream",
          "name": "stdout",
          "text": [
            "  Category  Label_Encoded  Category_A  Category_B  Category_C\n",
            "0        A              0        True       False       False\n",
            "1        B              1       False        True       False\n",
            "2        C              2       False       False        True\n",
            "3        A              0        True       False       False\n",
            "4        B              1       False        True       False\n"
          ]
        }
      ],
      "source": [
        "import pandas as pd\n",
        "from sklearn.preprocessing import LabelEncoder, OneHotEncoder\n",
        "data = {'Category': ['A', 'B', 'C', 'A', 'B']}\n",
        "df = pd.DataFrame(data)\n",
        "label_encoder = LabelEncoder()\n",
        "df['Label_Encoded'] = label_encoder.fit_transform(df['Category'])\n",
        "one_hot_encoded = pd.get_dummies(df['Category'], prefix='Category')\n",
        "df = pd.concat([df, one_hot_encoded], axis=1)\n",
        "print(df)"
      ]
    },
    {
      "cell_type": "code",
      "source": [
        "from datetime import datetime\n",
        "data = {'Name': ['Alice', 'Bob'], 'Date_of_Birth': ['1990-05-14', '1985-08-23']}\n",
        "df = pd.DataFrame(data)\n",
        "df['Date_of_Birth'] = pd.to_datetime(df['Date_of_Birth'])\n",
        "current_year = datetime.now().year\n",
        "df['Age'] = current_year - df['Date_of_Birth'].dt.year\n",
        "print(df)"
      ],
      "metadata": {
        "colab": {
          "base_uri": "https://localhost:8080/"
        },
        "id": "td5C9PtTOj8b",
        "outputId": "0d06dce7-102f-4381-836e-d2e4c9f60618"
      },
      "execution_count": 6,
      "outputs": [
        {
          "output_type": "stream",
          "name": "stdout",
          "text": [
            "    Name Date_of_Birth  Age\n",
            "0  Alice    1990-05-14   35\n",
            "1    Bob    1985-08-23   40\n"
          ]
        }
      ]
    },
    {
      "cell_type": "code",
      "source": [
        "data = {'Category': ['A', 'A', 'B', 'B', 'C'],\n",
        " 'Value': [10, 20, 10, 30, 40]}\n",
        "df = pd.DataFrame(data)\n",
        "grouped = df.groupby('Category').agg({'Value': ['sum', 'mean']})\n",
        "print(\"Grouped Data:\\n\", grouped)"
      ],
      "metadata": {
        "colab": {
          "base_uri": "https://localhost:8080/"
        },
        "id": "8-mmwoRrPA7T",
        "outputId": "44dd989c-3cda-4f3a-b16b-11a0e964c233"
      },
      "execution_count": 7,
      "outputs": [
        {
          "output_type": "stream",
          "name": "stdout",
          "text": [
            "Grouped Data:\n",
            "          Value      \n",
            "           sum  mean\n",
            "Category            \n",
            "A           30  15.0\n",
            "B           40  20.0\n",
            "C           40  40.0\n"
          ]
        }
      ]
    },
    {
      "cell_type": "code",
      "source": [
        "pivot = df.pivot_table(index='Category', values='Value', aggfunc=['sum',\n",
        "'mean'])\n",
        "print(\"\\nPivot Table:\\n\", pivot)"
      ],
      "metadata": {
        "colab": {
          "base_uri": "https://localhost:8080/"
        },
        "id": "kTvxdcgBPhCW",
        "outputId": "4b4b0b5f-1707-4223-f8c0-139d4f714e20"
      },
      "execution_count": 8,
      "outputs": [
        {
          "output_type": "stream",
          "name": "stdout",
          "text": [
            "\n",
            "Pivot Table:\n",
            "            sum  mean\n",
            "         Value Value\n",
            "Category            \n",
            "A           30  15.0\n",
            "B           40  20.0\n",
            "C           40  40.0\n"
          ]
        }
      ]
    }
  ]
}